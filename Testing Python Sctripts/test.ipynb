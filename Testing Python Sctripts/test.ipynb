{
 "cells": [
  {
   "cell_type": "code",
   "execution_count": 1,
   "metadata": {},
   "outputs": [
    {
     "name": "stderr",
     "output_type": "stream",
     "text": [
      "/home/lathika/miniconda3/envs/ges/lib/python3.10/site-packages/tqdm/auto.py:21: TqdmWarning: IProgress not found. Please update jupyter and ipywidgets. See https://ipywidgets.readthedocs.io/en/stable/user_install.html\n",
      "  from .autonotebook import tqdm as notebook_tqdm\n"
     ]
    }
   ],
   "source": [
    "import cv2\n",
    "import numpy as np\n",
    "import matplotlib.pyplot as plt\n",
    "from skimage.feature import blob_dog\n",
    "import torch"
   ]
  },
  {
   "cell_type": "code",
   "execution_count": 10,
   "metadata": {},
   "outputs": [
    {
     "name": "stdout",
     "output_type": "stream",
     "text": [
      "tensor([[0.2776, 0.2274],\n",
      "        [0.8167, 0.3409],\n",
      "        [0.2464, 0.2059],\n",
      "        [0.4103, 0.7414],\n",
      "        [0.9473, 0.1951],\n",
      "        [0.8138, 0.6273],\n",
      "        [0.8388, 0.7032],\n",
      "        [0.0275, 0.2398],\n",
      "        [0.7290, 0.0729],\n",
      "        [0.9471, 0.6953]])\n",
      "tensor([False,  True, False, False,  True,  True,  True, False,  True,  True])\n",
      "tensor([False,  True, False, False,  True,  True,  True, False,  True,  True])\n",
      "tensor([[0.8167, 0.3409],\n",
      "        [0.9473, 0.1951],\n",
      "        [0.8138, 0.6273],\n",
      "        [0.8388, 0.7032],\n",
      "        [0.7290, 0.0729],\n",
      "        [0.9471, 0.6953]])\n"
     ]
    }
   ],
   "source": [
    "a = torch.Tensor(np.random.rand(10,2))\n",
    "mask = a[:,0]>0.5\n",
    "print(a)\n",
    "print(mask)\n",
    "print(mask.squeeze())\n",
    "print(a[mask])"
   ]
  }
 ],
 "metadata": {
  "kernelspec": {
   "display_name": "ges",
   "language": "python",
   "name": "python3"
  },
  "language_info": {
   "codemirror_mode": {
    "name": "ipython",
    "version": 3
   },
   "file_extension": ".py",
   "mimetype": "text/x-python",
   "name": "python",
   "nbconvert_exporter": "python",
   "pygments_lexer": "ipython3",
   "version": "3.10.9"
  }
 },
 "nbformat": 4,
 "nbformat_minor": 2
}
